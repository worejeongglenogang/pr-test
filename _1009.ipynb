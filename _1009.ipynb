{
  "nbformat": 4,
  "nbformat_minor": 0,
  "metadata": {
    "colab": {
      "provenance": [],
      "authorship_tag": "ABX9TyNtv1fcGsioNJiU//Isfnae",
      "include_colab_link": true
    },
    "kernelspec": {
      "name": "python3",
      "display_name": "Python 3"
    },
    "language_info": {
      "name": "python"
    }
  },
  "cells": [
    {
      "cell_type": "markdown",
      "metadata": {
        "id": "view-in-github",
        "colab_type": "text"
      },
      "source": [
        "<a href=\"https://colab.research.google.com/github/worejeongglenogang/pr-test/blob/main/_1009.ipynb\" target=\"_parent\"><img src=\"https://colab.research.google.com/assets/colab-badge.svg\" alt=\"Open In Colab\"/></a>"
      ]
    },
    {
      "cell_type": "markdown",
      "source": [
        "재용이는 최신 컴퓨터 10대를 가지고 있다.\n",
        "  \n",
        "어느 날 재용이는 많은 데이터를 처리해야 될 일이 생겨서 각 컴퓨터에 1번부터 10번까지의 번호를 부여하고, 10대의 컴퓨터가 다음과 같은 방법으로 데이터들을 처리하기로 하였다.\n",
        "\n",
        "1번 데이터는 1번 컴퓨터, 2번 데이터는 2번 컴퓨터, 3번 데이터는 3번 컴퓨터, ... ,\n",
        "\n",
        "10번 데이터는 10번 컴퓨터, 11번 데이터는 1번 컴퓨터, 12번 데이터는 2번 컴퓨터, ...\n",
        "\n",
        "총 데이터의 개수는 항상 ab개의 형태로 주어진다. 재용이는 문득 마지막 데이터가 처리될 컴퓨터의 번호가 궁금해졌다. 이를 수행해주는 프로그램을 작성하라."
      ],
      "metadata": {
        "id": "l1HJoF4FYaBq"
      }
    },
    {
      "cell_type": "markdown",
      "source": [
        "입력\n",
        "입력의 첫 줄에는 테스트 케이스의 개수 T가 주어진다. 그 다음 줄부터 각각의 테스트 케이스에 대해 정수 a와 b가 주어진다. (1 ≤ a < 100, 1 ≤ b < 1,000,000)\n",
        "\n",
        "출력\n",
        "각 테스트 케이스에 대해 마지막 데이터가 처리되는 컴퓨터의 번호를 출력한다.\n",
        "\n",
        "예제 입력 1   \n",
        "5  \n",
        "1 6  \n",
        "3 7  \n",
        "6 2  \n",
        "7 100  \n",
        "9 635    \n",
        "예제 출력 1   \n",
        "1  \n",
        "7  \n",
        "6  \n",
        "1  \n",
        "9  "
      ],
      "metadata": {
        "id": "QvCqO2sqYngl"
      }
    },
    {
      "cell_type": "code",
      "execution_count": null,
      "metadata": {
        "colab": {
          "base_uri": "https://localhost:8080/"
        },
        "id": "Di1RL6khTfNM",
        "outputId": "355d25c8-b476-4b6c-d3a3-2966d071e798"
      },
      "outputs": [
        {
          "output_type": "stream",
          "name": "stdout",
          "text": [
            "5\n",
            "1 6\n",
            "1\n",
            "3 7\n",
            "7\n",
            "6 2\n",
            "6\n",
            "7 100\n",
            "1\n",
            "9 635\n",
            "9\n"
          ]
        }
      ],
      "source": [
        "T = int(input())\n",
        "\n",
        "for _ in range(T):\n",
        "    a, b = map(int, input().split())\n",
        "    a = a % 10 ## a의값으로 10을 나누어서 일의 자리만으로 효율적 계산하기 위해 썻음\n",
        "\n",
        "    if a == 0:  ## a가 만일 0이면 10인 이유는 0은 10이라고 한다라고 함\n",
        "        print(10)\n",
        "    elif a == 1 or a == 5 or a == 6: ## a가 1 또는 5또는 6은 이유가 제곱을해도 일의 자리숫자는 같기 떄문\n",
        "        print(a)\n",
        "    elif a == 4 or a == 9: ## a=4 .9 하는이유는 제곱할때마다 일의자리수가 주기성 2번으로 바뀌어서 b를 2로 나누어서\n",
        "    ##홀수 짝수 판별뒤 홀수일땐 그대로 짝수일시 10나누어 표기\n",
        "        b = b % 2\n",
        "        if b == 1:\n",
        "            print(a)\n",
        "        else:\n",
        "            print((a * a) % 10)\n",
        "    else:\n",
        "        b = b % 4\n",
        "        if b == 0: ## 이거 또한 주기성 4번임\n",
        "            print((a**4) % 10 % 10 % 10)\n",
        "        else:\n",
        "            print((a**b) % 10 % 10 % 10)"
      ]
    }
  ]
}